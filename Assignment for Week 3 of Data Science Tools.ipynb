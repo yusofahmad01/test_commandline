{
    "cells": [
        {
            "cell_type": "markdown",
            "metadata": {},
            "source": "# My Jupyter Notebook on IBM Watson Studio"
        },
        {
            "cell_type": "markdown",
            "metadata": {},
            "source": "__Yusof Ahmad__ \n<br> Market Research Analytis Professional </br>\n"
        },
        {
            "cell_type": "markdown",
            "metadata": {},
            "source": "_I am interested in Data Science becasue it will give me the opportunity to excel in my work. I also have a deep interest in deriving insights coded in data_  "
        },
        {
            "cell_type": "markdown",
            "metadata": {},
            "source": "### Return the Whole Number Quotient on Dividing a Real Number by Another Real Number\n"
        },
        {
            "cell_type": "code",
            "execution_count": 8,
            "metadata": {},
            "outputs": [
                {
                    "data": {
                        "text/plain": "2.0"
                    },
                    "execution_count": 8,
                    "metadata": {},
                    "output_type": "execute_result"
                }
            ],
            "source": "17.785 //  6"
        },
        {
            "cell_type": "markdown",
            "metadata": {},
            "source": "The Python programming language was founded </br> by Guido Von Rossum. You can see a file photo of Von Rossum by [clicking here](https://en.wikipedia.org/wiki/Guido_van_Rossum#/media/File:Guido_van_Rossum_at_Google_IO_2008.jpg)\nBelow are three important facts about python: <br>\n1. It is the most commonly used prograaming language among data scientists\n2. It is generally easier to learn than languages like C or C++\n3. Python code is always interpreted rather than compiled so that execution takes place line by line\n</br>\n\nWe will end this section with a horizontal rule as you can see below.\n***\n\n\n"
        },
        {
            "cell_type": "code",
            "execution_count": null,
            "metadata": {},
            "outputs": [],
            "source": ""
        }
    ],
    "metadata": {
        "kernelspec": {
            "display_name": "Python 3.6 with Spark",
            "language": "python3",
            "name": "python36"
        },
        "language_info": {
            "codemirror_mode": {
                "name": "ipython",
                "version": 3
            },
            "file_extension": ".py",
            "mimetype": "text/x-python",
            "name": "python",
            "nbconvert_exporter": "python",
            "pygments_lexer": "ipython3",
            "version": "3.6.8"
        }
    },
    "nbformat": 4,
    "nbformat_minor": 1
}