{
    "cells": [
        {
            "cell_type": "code",
            "execution_count": 1,
            "metadata": {},
            "outputs": [
                {
                    "name": "stdout",
                    "output_type": "stream",
                    "text": "Waiting for a Spark session to start...\nSpark Initialization Done! ApplicationId = app-20200821224938-0000\nKERNEL_ID = 746f9c93-f379-4159-b010-c556ea20d2b9\n"
                },
                {
                    "data": {
                        "text/plain": "[Row(FIRST NAME='TOMASA', LAST NAME='ARMEN', SEX='F', DOJ='5-18-2014', CURRENT DATE='01-07-2016', DESIGNATION='Analyst', AGE='21', SALARY='44570', UNIT='Finance', LEAVES USED='24', LEAVES REMAINING='6', RATINGS='2', PAST EXP='0'),\n Row(FIRST NAME='ANNIE', LAST NAME=None, SEX='F', DOJ=None, CURRENT DATE='01-07-2016', DESIGNATION='Associate', AGE=None, SALARY='89207', UNIT='Web', LEAVES USED=None, LEAVES REMAINING='13', RATINGS=None, PAST EXP='7'),\n Row(FIRST NAME='OLIVE', LAST NAME='ANCY', SEX='F', DOJ='7-28-2014', CURRENT DATE='01-07-2016', DESIGNATION='Analyst', AGE='21', SALARY='40955', UNIT='Finance', LEAVES USED='23', LEAVES REMAINING='7', RATINGS='3', PAST EXP='0'),\n Row(FIRST NAME='CHERRY', LAST NAME='AQUILAR', SEX='F', DOJ='04-03-2013', CURRENT DATE='01-07-2016', DESIGNATION='Analyst', AGE='22', SALARY='45550', UNIT='IT', LEAVES USED='22', LEAVES REMAINING='8', RATINGS='3', PAST EXP='0'),\n Row(FIRST NAME='LEON', LAST NAME='ABOULAHOUD', SEX='M', DOJ='11-20-2014', CURRENT DATE='01-07-2016', DESIGNATION='Analyst', AGE=None, SALARY='43161', UNIT='Operations', LEAVES USED='27', LEAVES REMAINING='3', RATINGS=None, PAST EXP='3')]"
                    },
                    "execution_count": 1,
                    "metadata": {},
                    "output_type": "execute_result"
                }
            ],
            "source": "# The code was removed by Watson Studio for sharing."
        },
        {
            "cell_type": "code",
            "execution_count": null,
            "metadata": {},
            "outputs": [],
            "source": ""
        }
    ],
    "metadata": {
        "kernelspec": {
            "display_name": "Python 3.6 with Spark",
            "language": "python3",
            "name": "python36"
        },
        "language_info": {
            "codemirror_mode": {
                "name": "ipython",
                "version": 3
            },
            "file_extension": ".py",
            "mimetype": "text/x-python",
            "name": "python",
            "nbconvert_exporter": "python",
            "pygments_lexer": "ipython3",
            "version": "3.6.8"
        }
    },
    "nbformat": 4,
    "nbformat_minor": 1
}